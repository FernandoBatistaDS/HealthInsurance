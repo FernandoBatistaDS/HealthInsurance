{
 "cells": [
  {
   "cell_type": "code",
   "execution_count": 30,
   "metadata": {},
   "outputs": [],
   "source": [
    "import sqlite3\n",
    "import pandas as pd"
   ]
  },
  {
   "cell_type": "code",
   "execution_count": 35,
   "metadata": {},
   "outputs": [],
   "source": [
    "# Conectar ao banco de dados SQLite (o arquivo será criado se não existir)\n",
    "conn = sqlite3.connect('pa004.sqlite')"
   ]
  },
  {
   "cell_type": "code",
   "execution_count": 32,
   "metadata": {},
   "outputs": [],
   "source": [
    "# Criar um cursor\n",
    "cur = conn.cursor()"
   ]
  },
  {
   "cell_type": "code",
   "execution_count": 33,
   "metadata": {},
   "outputs": [],
   "source": [
    "# # Exemplo de criação de uma tabela\n",
    "# cur.execute('''\n",
    "#     CREATE TABLE IF NOT EXISTS exemplo (\n",
    "#         id INTEGER PRIMARY KEY,\n",
    "#         nome TEXT,\n",
    "#         idade INTEGER\n",
    "#     )\n",
    "# ''')\n",
    "\n",
    "# # Exemplo de inserção de dados\n",
    "# cur.execute(\"INSERT INTO exemplo (nome, idade) VALUES (?, ?)\", ('Alice', 30))\n",
    "\n",
    "# # Commitar as alterações\n",
    "# conn.commit()\n",
    "\n",
    "# Exemplo de consulta SQL\n",
    "cur.execute(\"SELECT p.product_id, oi.price, RANK() OVER (ORDER BY oi.price DESC) AS RANK_ FROM products p INNER JOIN order_items oi ON p.product_id = oi.product_id WHERE p.product_category_name = 'agro_industria_e_comercio' GROUP BY p.product_id ORDER BY oi.price DESC\")\n",
    "dados = cur.fetchall()\n",
    "\n",
    "# Fechar o cursor e a conexão\n",
    "cur.close()\n",
    "conn.close()\n"
   ]
  },
  {
   "cell_type": "code",
   "execution_count": 34,
   "metadata": {},
   "outputs": [],
   "source": [
    "colunas = ['id', 'nome', 'idade']\n",
    "df = pd.DataFrame(dados, columns=colunas)"
   ]
  }
 ],
 "metadata": {
  "kernelspec": {
   "display_name": "Python 3",
   "language": "python",
   "name": "python3"
  },
  "language_info": {
   "codemirror_mode": {
    "name": "ipython",
    "version": 3
   },
   "file_extension": ".py",
   "mimetype": "text/x-python",
   "name": "python",
   "nbconvert_exporter": "python",
   "pygments_lexer": "ipython3",
   "version": "3.11.6"
  }
 },
 "nbformat": 4,
 "nbformat_minor": 2
}
