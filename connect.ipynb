{
 "cells": [
  {
   "cell_type": "code",
   "execution_count": 26,
   "metadata": {},
   "outputs": [
    {
     "ename": "ModuleNotFoundError",
     "evalue": "No module named 'pandas'",
     "output_type": "error",
     "traceback": [
      "\u001b[1;31m---------------------------------------------------------------------------\u001b[0m",
      "\u001b[1;31mModuleNotFoundError\u001b[0m                       Traceback (most recent call last)",
      "\u001b[1;32mc:\\xampp\\htdocs\\Meu\\DS\\ProjetoPropensao\\connect.ipynb Cell 1\u001b[0m line \u001b[0;36m2\n\u001b[0;32m      <a href='vscode-notebook-cell:/c%3A/xampp/htdocs/Meu/DS/ProjetoPropensao/connect.ipynb#W0sZmlsZQ%3D%3D?line=0'>1</a>\u001b[0m \u001b[39mimport\u001b[39;00m \u001b[39msqlite3\u001b[39;00m\n\u001b[1;32m----> <a href='vscode-notebook-cell:/c%3A/xampp/htdocs/Meu/DS/ProjetoPropensao/connect.ipynb#W0sZmlsZQ%3D%3D?line=1'>2</a>\u001b[0m \u001b[39mimport\u001b[39;00m \u001b[39mpandas\u001b[39;00m \u001b[39mas\u001b[39;00m \u001b[39mpd\u001b[39;00m\n",
      "\u001b[1;31mModuleNotFoundError\u001b[0m: No module named 'pandas'"
     ]
    }
   ],
   "source": [
    "import sqlite3\n",
    "import pandas as pd"
   ]
  },
  {
   "cell_type": "code",
   "execution_count": 22,
   "metadata": {},
   "outputs": [],
   "source": [
    "# Conectar ao banco de dados SQLite (o arquivo será criado se não existir)\n",
    "conn = sqlite3.connect('C:/xampp/htdocs/Meu/DS/provaDB/db_olist.sqlite')"
   ]
  },
  {
   "cell_type": "code",
   "execution_count": 23,
   "metadata": {},
   "outputs": [],
   "source": [
    "# Criar um cursor\n",
    "cur = conn.cursor()"
   ]
  },
  {
   "cell_type": "code",
   "execution_count": 24,
   "metadata": {},
   "outputs": [],
   "source": [
    "# # Exemplo de criação de uma tabela\n",
    "# cur.execute('''\n",
    "#     CREATE TABLE IF NOT EXISTS exemplo (\n",
    "#         id INTEGER PRIMARY KEY,\n",
    "#         nome TEXT,\n",
    "#         idade INTEGER\n",
    "#     )\n",
    "# ''')\n",
    "\n",
    "# # Exemplo de inserção de dados\n",
    "# cur.execute(\"INSERT INTO exemplo (nome, idade) VALUES (?, ?)\", ('Alice', 30))\n",
    "\n",
    "# # Commitar as alterações\n",
    "# conn.commit()\n",
    "\n",
    "# Exemplo de consulta SQL\n",
    "cur.execute(\"SELECT p.product_id, oi.price, RANK() OVER (ORDER BY oi.price DESC) AS RANK_ FROM products p INNER JOIN order_items oi ON p.product_id = oi.product_id WHERE p.product_category_name = 'agro_industria_e_comercio' GROUP BY p.product_id ORDER BY oi.price DESC\")\n",
    "dados = cur.fetchall()\n",
    "\n",
    "# Fechar o cursor e a conexão\n",
    "cur.close()\n",
    "conn.close()\n"
   ]
  },
  {
   "cell_type": "code",
   "execution_count": 25,
   "metadata": {},
   "outputs": [
    {
     "ename": "AttributeError",
     "evalue": "'list' object has no attribute 'head'",
     "output_type": "error",
     "traceback": [
      "\u001b[1;31m---------------------------------------------------------------------------\u001b[0m",
      "\u001b[1;31mAttributeError\u001b[0m                            Traceback (most recent call last)",
      "\u001b[1;32mc:\\xampp\\htdocs\\Meu\\DS\\ProjetoPropensao\\connect.ipynb Cell 5\u001b[0m line \u001b[0;36m1\n\u001b[1;32m----> <a href='vscode-notebook-cell:/c%3A/xampp/htdocs/Meu/DS/ProjetoPropensao/connect.ipynb#W4sZmlsZQ%3D%3D?line=0'>1</a>\u001b[0m dados\u001b[39m.\u001b[39;49mhead()\n",
      "\u001b[1;31mAttributeError\u001b[0m: 'list' object has no attribute 'head'"
     ]
    }
   ],
   "source": [
    "colunas = ['id', 'nome', 'idade']\n",
    "df = pd.DataFrame(dados, columns=colunas)"
   ]
  }
 ],
 "metadata": {
  "kernelspec": {
   "display_name": "Python 3",
   "language": "python",
   "name": "python3"
  },
  "language_info": {
   "codemirror_mode": {
    "name": "ipython",
    "version": 3
   },
   "file_extension": ".py",
   "mimetype": "text/x-python",
   "name": "python",
   "nbconvert_exporter": "python",
   "pygments_lexer": "ipython3",
   "version": "3.11.6"
  }
 },
 "nbformat": 4,
 "nbformat_minor": 2
}
