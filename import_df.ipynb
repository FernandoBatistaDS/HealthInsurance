{
 "cells": [
  {
   "cell_type": "code",
   "execution_count": 123,
   "metadata": {},
   "outputs": [],
   "source": [
    "import sqlite3\n",
    "import pandas as pd"
   ]
  },
  {
   "cell_type": "code",
   "execution_count": 124,
   "metadata": {},
   "outputs": [],
   "source": [
    "# Ler o arquivo CSV para um DataFrame\n",
    "df_test = pd.read_csv('dataset/test.csv')\n",
    "df_train = pd.read_csv('dataset/train.csv')\n",
    "\n"
   ]
  },
  {
   "cell_type": "code",
   "execution_count": 126,
   "metadata": {},
   "outputs": [],
   "source": [
    "# Concatenando os DataFrames ao longo das linhas (axis=0)\n",
    "df_raw = pd.concat([df_train, df_test], ignore_index=True)"
   ]
  },
  {
   "cell_type": "code",
   "execution_count": 127,
   "metadata": {},
   "outputs": [],
   "source": [
    "df_users = df_raw[['id', 'Gender', 'Age', 'Region_Code', 'Policy_Sales_Channel']]\n",
    "df_users.columns = ['id', 'gender', 'age', 'region_code', 'policy_sales_channel']\n",
    "\n",
    "df_vehicle = df_raw[['id', 'Driving_License', 'Vehicle_Age', 'Vehicle_Damage']]\n",
    "df_vehicle.columns = ['id', 'driving_license', 'vehicle_age', 'vehicle_damage']\n",
    "\n",
    "df_insurance = df_raw[['id', 'Previously_Insured', 'Annual_Premium', 'Vintage', 'Response']]\n",
    "df_insurance.columns = ['id', 'previously_insured', 'annual_premium', 'vintage', 'response']\n"
   ]
  },
  {
   "cell_type": "code",
   "execution_count": 131,
   "metadata": {},
   "outputs": [],
   "source": [
    "# Conectar ao banco de dados SQLite (o arquivo será criado se não existir)\n",
    "conn = sqlite3.connect('pa004.sqlite')"
   ]
  },
  {
   "cell_type": "code",
   "execution_count": 132,
   "metadata": {},
   "outputs": [
    {
     "data": {
      "text/plain": [
       "508146"
      ]
     },
     "execution_count": 132,
     "metadata": {},
     "output_type": "execute_result"
    }
   ],
   "source": [
    "# Salvar o DataFrame no banco de dados \"df_users\"\n",
    "df_users.to_sql('users', conn, index=False, if_exists='replace')\n",
    "\n",
    "# Salvar o DataFrame no banco de dados \"df_vehicle\"\n",
    "df_vehicle.to_sql('vehicle', conn, index=False, if_exists='replace')\n",
    "\n",
    "# Salvar o DataFrame no banco de dados \"df_insurance\"\n",
    "# df_insurance.to_sql('insurance', conn, index=False, if_exists='replace', dtype={'response': 'INTEGER NULL'})\n",
    "df_insurance.to_sql('insurance', conn, index=False, if_exists='replace')"
   ]
  },
  {
   "cell_type": "code",
   "execution_count": 133,
   "metadata": {},
   "outputs": [],
   "source": [
    "# Criar um cursor\n",
    "cur = conn.cursor()"
   ]
  },
  {
   "cell_type": "code",
   "execution_count": 1,
   "metadata": {},
   "outputs": [
    {
     "ename": "NameError",
     "evalue": "name 'cur' is not defined",
     "output_type": "error",
     "traceback": [
      "\u001b[1;31m---------------------------------------------------------------------------\u001b[0m",
      "\u001b[1;31mNameError\u001b[0m                                 Traceback (most recent call last)",
      "\u001b[1;32mc:\\xampp\\htdocs\\Meu\\DS\\ProjetoPropensao\\import_df.ipynb Cell 8\u001b[0m line \u001b[0;36m2\n\u001b[0;32m      <a href='vscode-notebook-cell:/c%3A/xampp/htdocs/Meu/DS/ProjetoPropensao/import_df.ipynb#X10sZmlsZQ%3D%3D?line=0'>1</a>\u001b[0m \u001b[39m# Fechar o cursor e a conexão\u001b[39;00m\n\u001b[1;32m----> <a href='vscode-notebook-cell:/c%3A/xampp/htdocs/Meu/DS/ProjetoPropensao/import_df.ipynb#X10sZmlsZQ%3D%3D?line=1'>2</a>\u001b[0m cur\u001b[39m.\u001b[39mclose()\n\u001b[0;32m      <a href='vscode-notebook-cell:/c%3A/xampp/htdocs/Meu/DS/ProjetoPropensao/import_df.ipynb#X10sZmlsZQ%3D%3D?line=2'>3</a>\u001b[0m conn\u001b[39m.\u001b[39mclose()\n",
      "\u001b[1;31mNameError\u001b[0m: name 'cur' is not defined"
     ]
    }
   ],
   "source": [
    "# Fechar o cursor e a conexão\n",
    "cur.close()\n",
    "conn.close()"
   ]
  }
 ],
 "metadata": {
  "kernelspec": {
   "display_name": ".venv",
   "language": "python",
   "name": "python3"
  },
  "language_info": {
   "codemirror_mode": {
    "name": "ipython",
    "version": 3
   },
   "file_extension": ".py",
   "mimetype": "text/x-python",
   "name": "python",
   "nbconvert_exporter": "python",
   "pygments_lexer": "ipython3",
   "version": "3.11.6"
  }
 },
 "nbformat": 4,
 "nbformat_minor": 2
}
